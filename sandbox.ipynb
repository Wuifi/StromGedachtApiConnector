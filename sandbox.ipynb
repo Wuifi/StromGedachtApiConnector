{
 "cells": [
  {
   "attachments": {},
   "cell_type": "markdown",
   "metadata": {},
   "source": [
    "# StromGedachtApiMqttConnector - Sandbox\n",
    "https://www.stromgedacht.de/\n",
    "\n",
    "https://www.stromgedacht.de/api-info/\n",
    "\n",
    "https://api.stromgedacht.de/index.html\n",
    "\n",
    "https://www.stromgedacht.de/api-docs\n"
   ]
  },
  {
   "attachments": {},
   "cell_type": "markdown",
   "metadata": {},
   "source": [
    "###  Meaning of states (cf. https://www.stromgedacht.de):\n",
    "- 1 = green\\\n",
    "- 2 = yellow\\\n",
    "- 3 = orange\\\n",
    "- 4 = red\\\n",
    "- \n",
    "#### Die Bedeutung der StromGedacht-Zustände ist – wie aus der StromGedacht-App bekannt – wie folgt:\n",
    "\n",
    "- 1 = grüner Zustand: Normalbetrieb – Du musst nichts weiter tun\\\n",
    "- 2 = gelber Zustand: Verbrauch vorverlegen – Strom jetzt nutzen\\\n",
    "- 3 = oranger Zustand: Verbrauch reduzieren, um Kosten und CO2 zu sparen\\\n",
    "- 4 = roter Zustand: Verbrauch reduzieren, um Strommangel zu verhindern\\"
   ]
  },
  {
   "cell_type": "code",
   "execution_count": null,
   "metadata": {},
   "outputs": [],
   "source": [
    "import requests\n",
    "import json\n",
    "import pprint\n",
    "import logging\n",
    "from datetime import datetime, timedelta\n",
    "from lib.stromgedacht_api import getDataNow, getDataStates\n",
    "from lib.app_functions import convert2json, convert_to_mqtt_msg, publish2mqtt\n",
    "from lib.basic_functions import read_config"
   ]
  },
  {
   "cell_type": "code",
   "execution_count": null,
   "metadata": {},
   "outputs": [],
   "source": [
    "config = read_config('config.ini')\n",
    "mqtt_topic = config.get('mqtt', 'topic')\n",
    "stromgedachtURL = config.get('StromGedacht', 'url')\n",
    "zip_code = config.get('StromGedacht', 'zip_code')"
   ]
  },
  {
   "cell_type": "code",
   "execution_count": null,
   "metadata": {},
   "outputs": [],
   "source": [
    "# StromGedacht API\n",
    "#\n",
    "# Get current state for zip=70173 (Stuttgart)\n",
    "response=getDataNow(stromgedachtURL,zip_code)\n",
    "#pprint.pprint(response.status_code)\n",
    "# content = json.loads(response.text)\n",
    "# state = content[\"state\"]\n",
    "# print(state)\n",
    "json_string = convert2json(response)\n",
    "pprint.pprint(json_string)\n",
    "\n",
    "MQTT_msg=convert_to_mqtt_msg(json_string,mqtt_topic)\n",
    "publish2mqtt(MQTT_msg,config)\n"
   ]
  },
  {
   "attachments": {},
   "cell_type": "markdown",
   "metadata": {},
   "source": [
    "## get States within defined time range"
   ]
  },
  {
   "cell_type": "code",
   "execution_count": null,
   "metadata": {},
   "outputs": [],
   "source": [
    "default_log_level = logging.DEBUG"
   ]
  },
  {
   "cell_type": "code",
   "execution_count": null,
   "metadata": {},
   "outputs": [],
   "source": [
    "from lib.influx import *\n",
    "influxdb_client = initinfluxDBclient(config)\n",
    "check_db_status(influxdb_client, config.get('influxdb', 'database'))"
   ]
  },
  {
   "cell_type": "code",
   "execution_count": null,
   "metadata": {},
   "outputs": [],
   "source": [
    "from lib.forecast import getDataStatesForecast, timestamp_convert\n",
    "# Get states for zip=70173 (Stuttgart) from 2023-04-11T00:00:00+02:00 to 2023-04-17T23:59:59+02:00\n",
    "# Please substitute the start and end dates above with valid dates as the API\n",
    "# only provides data for up to four days in the past and two days in the future\n",
    "\n",
    "\n",
    "response=getDataStatesForecast(stromgedachtURL,zip_code)\n",
    "content = json.loads(response.text)\n",
    "#pprint.pprint(response)\n",
    "states = content[\"states\"]\n",
    "print(states)\n",
    "#print(timestamp_convert(states[0][\"from\"]))\n",
    "#print(timestamp_convert(states[0][\"to\"]))\n",
    "#print(states[0][\"state\"])\n",
    "#pprint.pprint(states[0])\n"
   ]
  },
  {
   "cell_type": "code",
   "execution_count": null,
   "metadata": {},
   "outputs": [],
   "source": [
    "from lib.forecast import convert_dataset2influx\n",
    "data = convert_dataset2influx(response,config)\n",
    "write2influx(data,influxdb_client,config)\n",
    "data"
   ]
  }
 ],
 "metadata": {
  "kernelspec": {
   "display_name": "base",
   "language": "python",
   "name": "python3"
  },
  "language_info": {
   "codemirror_mode": {
    "name": "ipython",
    "version": 3
   },
   "file_extension": ".py",
   "mimetype": "text/x-python",
   "name": "python",
   "nbconvert_exporter": "python",
   "pygments_lexer": "ipython3",
   "version": "3.8.8"
  },
  "orig_nbformat": 4
 },
 "nbformat": 4,
 "nbformat_minor": 2
}
