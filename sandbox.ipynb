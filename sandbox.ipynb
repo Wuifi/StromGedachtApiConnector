{
 "cells": [
  {
   "attachments": {},
   "cell_type": "markdown",
   "metadata": {},
   "source": [
    "# stromgedacht api\n",
    "https://www.stromgedacht.de/\n",
    "\n",
    "https://www.stromgedacht.de/api-info/\n",
    "\n",
    "https://api.stromgedacht.de/index.html\n",
    "\n",
    "https://www.stromgedacht.de/api-docs\n"
   ]
  },
  {
   "cell_type": "code",
   "execution_count": 3,
   "metadata": {},
   "outputs": [],
   "source": [
    "import requests\n",
    "import json\n",
    "import pprint"
   ]
  },
  {
   "cell_type": "code",
   "execution_count": 1,
   "metadata": {},
   "outputs": [
    {
     "name": "stdout",
     "output_type": "stream",
     "text": [
      "1\n"
     ]
    }
   ],
   "source": [
    "# StromGedacht API\n",
    "#\n",
    "# Get current state for zip=70173 (Stuttgart)\n",
    "# # response\n",
    "# Meaning of states (cf. https://www.stromgedacht.de):\n",
    "# 1 = green\n",
    "# 2 = yellow\n",
    "# 3 = orange\n",
    "# 4 = red\n",
    "#\n",
    "\n",
    "zip_code=70173\n",
    "stromgedachtURL_now = \"https://api.stromgedacht.de/v1/now?zip=\"\n",
    "requestURL = stromgedachtURL_now+str(zip_code)\n",
    "response = requests.get(requestURL, headers = {\"accept\":\"application/json\"})\n",
    "content = json.loads(response.text)\n",
    "state = content[\"state\"]\n",
    "print(state)\n"
   ]
  },
  {
   "cell_type": "code",
   "execution_count": 10,
   "metadata": {},
   "outputs": [
    {
     "name": "stdout",
     "output_type": "stream",
     "text": [
      "https://api.stromgedacht.de/v1/states?zip=70173&from=2023-05-01T00%3A00%3A00%2B02%3A00&to=2023-05-07T23%3A59%3A59%2B02%3A00\n",
      "<Response [200]>\n",
      "[{'from': '2023-05-01T00:00:00+02:00', 'to': '2023-05-07T23:59:59+02:00', 'state': 1}]\n",
      "2023-05-01T00:00:00+02:00\n",
      "2023-05-07T23:59:59+02:00\n",
      "1\n"
     ]
    }
   ],
   "source": [
    "# Be sure to have the requests library installed ('pip install requests')\n",
    "import requests\n",
    "import json\n",
    "\n",
    "# StromGedacht API\n",
    "#\n",
    "# Get states for zip=70173 (Stuttgart) from 2023-04-11T00:00:00+02:00 to 2023-04-17T23:59:59+02:00\n",
    "# Please substitute the start and end dates above with valid dates as the API only provides data for up to four days in the past and two days in the future\n",
    "#\n",
    "# Meaning of states (cf. https://www.stromgedacht.de):\n",
    "# 1 = green\n",
    "# 2 = yellow\n",
    "# 3 = orange\n",
    "# 4 = red\n",
    "# Die Bedeutung der StromGedacht-Zustände ist – wie aus der StromGedacht-App bekannt – wie folgt:\n",
    "\n",
    "#     1 = grüner Zustand: Normalbetrieb – Du musst nichts weiter tun\n",
    "#     2 = gelber Zustand: Verbrauch vorverlegen – Strom jetzt nutzen\n",
    "#     3 = oranger Zustand: Verbrauch reduzieren, um Kosten und CO2 zu sparen\n",
    "#     4 = roter Zustand: Verbrauch reduzieren, um Strommangel zu verhindern\n",
    "#\n",
    "starttime=\"2023-05-01T00%3A00%3A00%2B02%3A00\"\n",
    "endtime=\"2023-05-07T23%3A59%3A59%2B02%3A00\"\n",
    "\n",
    "stromgedachtURL_states = \"https://api.stromgedacht.de/v1/states?zip=\"\n",
    "requestURL = stromgedachtURL_states+str(zip_code)+\"&from=\"+starttime+\"&to=\"+endtime\n",
    "# stromgedachtURL = \"https://api.stromgedacht.de/v1/states?zip=70173&from=2023-04-11T00%3A00%3A00%2B02%3A00&to=2023-04-17T23%3A59%3A59%2B02%3A00\"\n",
    "print(requestURL)\n",
    "response = requests.get(requestURL, headers = {\"accept\":\"application/json\"})\n",
    "content = json.loads(response.text)\n",
    "pprint.pprint(response)\n",
    "states = content[\"states\"]\n",
    "print(states)\n",
    "print(states[0][\"from\"])\n",
    "print(states[0][\"to\"])\n",
    "print(states[0][\"state\"])\n"
   ]
  }
 ],
 "metadata": {
  "kernelspec": {
   "display_name": "base",
   "language": "python",
   "name": "python3"
  },
  "language_info": {
   "codemirror_mode": {
    "name": "ipython",
    "version": 3
   },
   "file_extension": ".py",
   "mimetype": "text/x-python",
   "name": "python",
   "nbconvert_exporter": "python",
   "pygments_lexer": "ipython3",
   "version": "3.8.8"
  },
  "orig_nbformat": 4
 },
 "nbformat": 4,
 "nbformat_minor": 2
}
